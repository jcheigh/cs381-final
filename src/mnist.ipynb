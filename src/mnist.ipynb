{
 "cells": [
  {
   "cell_type": "markdown",
   "metadata": {},
   "source": []
  },
  {
   "cell_type": "code",
   "execution_count": 25,
   "metadata": {},
   "outputs": [],
   "source": [
    "import torch\n",
    "from torch import nn\n",
    "from torch.utils.data import DataLoader, random_split, Subset\n",
    "from torchvision import datasets, transforms\n",
    "import matplotlib.pyplot as plt\n",
    "import numpy as np\n",
    "\n",
    "from lora import LoRA, LoRALinear"
   ]
  },
  {
   "cell_type": "code",
   "execution_count": 26,
   "metadata": {},
   "outputs": [],
   "source": [
    "### transform object to turn to tensor\n",
    "transform = transforms.Compose([\n",
    "    transforms.ToTensor(),\n",
    "    transforms.Normalize((0.5,), (0.5,))\n",
    "])\n",
    "\n",
    "### load mnist data\n",
    "mnist_dataset = datasets.MNIST(root='./data', download=True, transform=transform)\n",
    "\n",
    "### split\n",
    "train_size    = int(0.6 * len(mnist_dataset))\n",
    "finetune_size = int(0.3 * len(mnist_dataset))\n",
    "test_size     = len(mnist_dataset) - train_size - finetune_size\n",
    "\n",
    "train_data, finetune_data, test_data = random_split(mnist_dataset, [train_size, finetune_size, test_size])"
   ]
  },
  {
   "cell_type": "code",
   "execution_count": 27,
   "metadata": {},
   "outputs": [],
   "source": [
    "class SimpleNN(nn.Module):\n",
    "    def __init__(self):\n",
    "        super(SimpleNN, self).__init__()\n",
    "        self.fc1 = nn.Linear(28*28, 100) \n",
    "        self.fc2 = nn.Linear(100, 10)     \n",
    "\n",
    "    def forward(self, x):\n",
    "        x = x.view(-1, 28*28)\n",
    "        x = torch.relu(self.fc1(x))\n",
    "        x = self.fc2(x)\n",
    "        return x"
   ]
  },
  {
   "cell_type": "code",
   "execution_count": 28,
   "metadata": {},
   "outputs": [],
   "source": [
    "def train(model, train_loader, optimizer, criterion):\n",
    "    model.train()\n",
    "    for data, target in train_loader:\n",
    "        optimizer.zero_grad()\n",
    "        output = model(data)\n",
    "        loss = criterion(output, target)\n",
    "        loss.backward()\n",
    "        optimizer.step()\n",
    "\n",
    "model = SimpleNN()\n",
    "optimizer = torch.optim.SGD(model.parameters(), lr=0.01)\n",
    "criterion = nn.CrossEntropyLoss()\n",
    "train_loader = DataLoader(train_data, batch_size=64, shuffle=True)\n",
    "train(model, train_loader, optimizer, criterion)"
   ]
  },
  {
   "cell_type": "code",
   "execution_count": 29,
   "metadata": {},
   "outputs": [
    {
     "name": "stdout",
     "output_type": "stream",
     "text": [
      "category: 0, accuracy: 0.93459552526474\n",
      "category: 1, accuracy: 0.9718309640884399\n",
      "category: 2, accuracy: 0.8347979187965393\n",
      "category: 3, accuracy: 0.8421052694320679\n",
      "category: 4, accuracy: 0.9245283007621765\n",
      "category: 5, accuracy: 0.7660714387893677\n",
      "category: 6, accuracy: 0.8939393758773804\n",
      "category: 7, accuracy: 0.8663522005081177\n",
      "category: 8, accuracy: 0.8283828496932983\n",
      "category: 9, accuracy: 0.761904776096344\n",
      "Worst Category: 9\n"
     ]
    }
   ],
   "source": [
    "def evaluate(model, test_loader):\n",
    "    model.eval()\n",
    "    test_loss = 0\n",
    "    correct = 0\n",
    "    confusion_matrix = torch.zeros(10, 10)\n",
    "    with torch.no_grad():\n",
    "        for data, target in test_loader:\n",
    "            output = model(data)\n",
    "            test_loss += criterion(output, target).item()\n",
    "            pred = output.argmax(dim=1, keepdim=True)\n",
    "            correct += pred.eq(target.view_as(pred)).sum().item()\n",
    "            for t, p in zip(target.view(-1), pred.view(-1)):\n",
    "                confusion_matrix[t.long(), p.long()] += 1\n",
    "    test_loss /= len(test_loader.dataset)\n",
    "    accuracy = 100. * correct / len(test_loader.dataset)\n",
    "    return test_loss, accuracy, confusion_matrix\n",
    "\n",
    "test_loader = DataLoader(test_data, batch_size=64, shuffle=False)\n",
    "initial_loss, initial_accuracy, initial_confusion = evaluate(model, test_loader)\n",
    "category_accuracy = initial_confusion.diag() / initial_confusion.sum(1)\n",
    "worst_category = torch.argmin(category_accuracy).item()\n",
    "\n",
    "for cat, acc in enumerate(category_accuracy):\n",
    "    print(f'category: {cat}, accuracy: {acc}')\n",
    "\n",
    "print(f'Worst Category: {worst_category}')"
   ]
  },
  {
   "cell_type": "code",
   "execution_count": 30,
   "metadata": {},
   "outputs": [
    {
     "data": {
      "image/png": "[encoded data removed]",
      "text/plain": [
       "<Figure size 1400x500 with 2 Axes>"
      ]
     },
     "metadata": {},
     "output_type": "display_data"
    }
   ],
   "source": [
    "finetune_indices = [i for i, (img, label) in enumerate(finetune_data.dataset) if label == worst_category and i in finetune_data.indices]\n",
    "finetune_subset = Subset(finetune_data.dataset, finetune_indices)\n",
    "finetune_loader = DataLoader(finetune_subset, batch_size=64, shuffle=True)\n",
    "\n",
    "# Replace and freeze layers\n",
    "model.fc2 = LoRALinear(model.fc2, rank=2, alpha=1)\n",
    "for param in model.fc1.parameters():\n",
    "    param.requires_grad = False\n",
    "\n",
    "# Finetune on the filtered dataset\n",
    "train(model, finetune_loader, optimizer, criterion)\n",
    "\n",
    "final_loss, final_accuracy, final_confusion = evaluate(model, test_loader)\n",
    "\n",
    "# Calculate per-category accuracy after finetuning\n",
    "final_category_accuracy = final_confusion.diag() / final_confusion.sum(1)\n",
    "\n",
    "categories = list(range(10))\n",
    "fig, axes = plt.subplots(nrows=1, ncols=2, figsize=(14, 5))\n",
    "axes[0].bar(categories, category_accuracy.numpy(), color='blue')\n",
    "axes[0].set_title('Accuracy Before LoRA')\n",
    "axes[0].set_xlabel('Category')\n",
    "axes[0].set_ylabel('Accuracy')\n",
    "\n",
    "axes[1].bar(categories, final_category_accuracy.numpy(), color='green')\n",
    "axes[1].set_title('Accuracy After LoRA')\n",
    "axes[1].set_xlabel('Category')\n",
    "axes[1].set_ylabel('Accuracy')\n",
    "\n",
    "plt.show()\n"
   ]
  },
  {
   "cell_type": "code",
   "execution_count": null,
   "metadata": {},
   "outputs": [],
   "source": []
  }
 ],
 "metadata": {
  "kernelspec": {
   "display_name": "Python 3.11.5 ('jhc5')",
   "language": "python",
   "name": "python3"
  },
  "language_info": {
   "codemirror_mode": {
    "name": "ipython",
    "version": 3
   },
   "file_extension": ".py",
   "mimetype": "text/x-python",
   "name": "python",
   "nbconvert_exporter": "python",
   "pygments_lexer": "ipython3",
   "version": "3.11.5"
  },
  "orig_nbformat": 4,
  "vscode": {
   "interpreter": {
    "hash": "80cbefc87963e2aca6d49478d2ac55d36d54079a912904fa044b87a1ec5b5bde"
   }
  }
 },
 "nbformat": 4,
 "nbformat_minor": 2
}
